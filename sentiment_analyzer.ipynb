{
 "cells": [
  {
   "cell_type": "markdown",
   "metadata": {
    "id": "ZpQsh2uGYMWM"
   },
   "source": [
    "# Introduction:\n",
    " This project is aimed at performing sentiment analysis on movie reviews. There are two techniques used here. It classifies the reviews into positive and negative sentiments. \n",
    "\n",
    "   - A word2vec model \n",
    "   - A Long Short Term Memory model\n",
    "   \n",
    "The similarity of words obtained by both models are analyzed and visualized using a plot. \n",
    "\n",
    "# Business value: \n",
    "\n",
    "With a large number of reviews received by an online business, it is almost impossible to go through each one of them to understand the customer sentiment. These reviews not only represent the overall impact on the user but also highlights the improvement opportunities. Instead of guessing the improvements to improve revenue, its any day better to get an idea of concrete issues from the users. It is also recommended to work on existing issues first before getting into developing new features. \n",
    "\n",
    "The sentiment analyzer developed in this project would help ingest large amount of reviews by classifying them into positive and negative reviews. This way the quantity of happy and unhappy users can be compared. It also filters the negative reviews so these will be the only ones that needs further analysis and contains the hints for further business improvement. \n",
    "\n",
    "# Concepts:\n",
    "\n",
    "- word2vec: It is a natural language processing model that uses a corpus of text to learn association of words. Each word is represented by a vector which captures the semantics and qualities of that word. The similarity between words is gauged by the distance between these vectors in vector space. The closer the vectors, the similar the words in meaning/context. \n",
    "\n",
    "  The technique picks words falling in the mentioned window. For eg. in a window of size 5, 5 words before and 5 words after would be picked from the text. The frequency of words falling in the same window relates to their similarity in context.\n",
    "\n",
    "- LSTM: It is a recurrent neural network model that has a capability to learn long term dependencies. A neural network is a combination of multiple logistic regression functions. An RNN learns the context and meaning of the word and creates embeddings. These embeddings are representation of word tokens.\n",
    "\n",
    " Here the classification has been done using already trained gensim embeddings as well as embeddings obtained by training an LSTM model. \n",
    "\n",
    "\n",
    "# Technologies Used: \n",
    "- Python\n",
    "- Google Colab\n",
    "- Tensorflow\n",
    "- Long Short Term Memory\n",
    "- word2vec\n",
    "- Principal Component Analysis"
   ]
  },
  {
   "cell_type": "code",
   "execution_count": 1,
   "metadata": {
    "id": "vBZAL7yTqzES"
   },
   "outputs": [],
   "source": [
    "import numpy as np\n",
    "import pandas as pd\n",
    "import os\n",
    "import csv\n",
    "import gensim\n",
    "from keras.preprocessing import sequence\n",
    "from keras.models import Sequential\n",
    "from keras.layers import Dense, LSTM, Embedding\n",
    "from keras.preprocessing.text import Tokenizer\n",
    "from tensorflow.keras.preprocessing.sequence import pad_sequences\n",
    "from sklearn.model_selection import train_test_split\n",
    "from gensim.models import Word2Vec\n",
    "from sklearn.linear_model import LogisticRegression\n",
    "import matplotlib.pyplot as plt\n",
    "from gensim.models import KeyedVectors\n",
    "from sklearn.decomposition import PCA\n",
    "from keras.layers import Input\n",
    "from keras.models import Model\n",
    "import matplotlib.pyplot as plt\n"
   ]
  },
  {
   "cell_type": "code",
   "execution_count": null,
   "metadata": {
    "id": "FJDy7Ur4Jo2G"
   },
   "outputs": [],
   "source": [
    " data = pd.read_csv('IMDB.csv')"
   ]
  },
  {
   "cell_type": "code",
   "execution_count": null,
   "metadata": {
    "id": "G_jACdP7kyXi"
   },
   "outputs": [],
   "source": [
    "data['review'] = data['review'].apply(lambda x: gensim.utils.simple_preprocess(x))\n",
    "data['review'] = data['review'].apply(lambda x: [word for word in x if word not in gensim.parsing.preprocessing.STOPWORDS])\n",
    "train_data, test_data, train_labels, test_labels = train_test_split(data['review'], data['sentiment'], test_size=0.2)\n"
   ]
  },
  {
   "cell_type": "markdown",
   "metadata": {
    "id": "3R361jEbYMWO"
   },
   "source": [
    "## Applying word2vec model. \n",
    "word2vec performs better with little to no pre-processing as the words change after processing. For eg. a word such as \"eating\" will become \"eat\" post stemming. The model may fail to capture the original context of such word. I have applied simple preprocessing in this case and also removed the stopwords. Stopwords are words such as is, an, a.\n"
   ]
  },
  {
   "cell_type": "code",
   "execution_count": null,
   "metadata": {
    "colab": {
     "base_uri": "https://localhost:8080/"
    },
    "id": "ed3r1CJSh3xR",
    "outputId": "a4320695-d0b8-4ec6-b1ff-cfef12b5f287"
   },
   "outputs": [
    {
     "name": "stdout",
     "output_type": "stream",
     "text": [
      "Train accuracy: 0.873525\n",
      "Test accuracy: 0.8786\n"
     ]
    },
    {
     "name": "stderr",
     "output_type": "stream",
     "text": [
      "/usr/local/lib/python3.9/dist-packages/sklearn/linear_model/_logistic.py:458: ConvergenceWarning: lbfgs failed to converge (status=1):\n",
      "STOP: TOTAL NO. of ITERATIONS REACHED LIMIT.\n",
      "\n",
      "Increase the number of iterations (max_iter) or scale the data as shown in:\n",
      "    https://scikit-learn.org/stable/modules/preprocessing.html\n",
      "Please also refer to the documentation for alternative solver options:\n",
      "    https://scikit-learn.org/stable/modules/linear_model.html#logistic-regression\n",
      "  n_iter_i = _check_optimize_result(\n"
     ]
    }
   ],
   "source": [
    "\n",
    "data['review'] = data['review'].apply(lambda x: gensim.utils.simple_preprocess(x))\n",
    "data['review'] = data['review'].apply(lambda x: [word for word in x if word not in gensim.parsing.preprocessing.STOPWORDS])\n",
    "\n",
    "# Split the data into training and test sets\n",
    "train_data, test_data, train_labels, test_labels = train_test_split(data['review'], data['sentiment'], test_size=0.2)\n",
    "\n",
    "# Train the Word2Vec model\n",
    "model = Word2Vec(train_data, vector_size=100, window=5, min_count=5, sg=1)\n",
    "\n",
    "# Average the word embeddings for each review\n",
    "def get_review_vector(review):\n",
    "    vectors = []\n",
    "    for word in review:\n",
    "        if word in model.wv.key_to_index:\n",
    "            vectors.append(model.wv[word])\n",
    "    if len(vectors) > 0:\n",
    "        return np.mean(vectors, axis=0)\n",
    "    else:\n",
    "        return np.zeros((100,))\n",
    "\n",
    "train_vectors = np.array([get_review_vector(review) for review in train_data])\n",
    "test_vectors = np.array([get_review_vector(review) for review in test_data])\n",
    "\n",
    "logreg = LogisticRegression()\n",
    "logreg.fit(train_vectors, train_labels)\n",
    "\n",
    "# Evaluate the model\n",
    "train_accuracy = logreg.score(train_vectors, train_labels)\n",
    "test_accuracy = logreg.score(test_vectors, test_labels)\n",
    "\n",
    "print(\"Train accuracy:\", train_accuracy)\n",
    "print(\"Test accuracy:\", test_accuracy)\n"
   ]
  },
  {
   "cell_type": "markdown",
   "metadata": {
    "id": "au_XiPqqYMWO"
   },
   "source": [
    " The model has a test accuracy of 87% and hence can be used for classifying text by using a output vector dimension of 100. Now, the model accuracy is calculated and compared with dimnsions 25,50,100 and 150.\n",
    "\n",
    " Changing the size defines the output vector dimension. If the size is 100 that means we are trying to compress the embeddings/features of words to 100 dimensions.This will lead to more focused features of the words to be highlighted.\n"
   ]
  },
  {
   "cell_type": "code",
   "execution_count": null,
   "metadata": {
    "colab": {
     "base_uri": "https://localhost:8080/",
     "height": 1000
    },
    "id": "M5aQt89Yh31I",
    "outputId": "9bbd0c06-6629-4ba7-dc01-025097a722b1"
   },
   "outputs": [
    {
     "name": "stderr",
     "output_type": "stream",
     "text": [
      "/usr/local/lib/python3.9/dist-packages/sklearn/linear_model/_logistic.py:458: ConvergenceWarning: lbfgs failed to converge (status=1):\n",
      "STOP: TOTAL NO. of ITERATIONS REACHED LIMIT.\n",
      "\n",
      "Increase the number of iterations (max_iter) or scale the data as shown in:\n",
      "    https://scikit-learn.org/stable/modules/preprocessing.html\n",
      "Please also refer to the documentation for alternative solver options:\n",
      "    https://scikit-learn.org/stable/modules/linear_model.html#logistic-regression\n",
      "  n_iter_i = _check_optimize_result(\n",
      "/usr/local/lib/python3.9/dist-packages/sklearn/linear_model/_logistic.py:458: ConvergenceWarning: lbfgs failed to converge (status=1):\n",
      "STOP: TOTAL NO. of ITERATIONS REACHED LIMIT.\n",
      "\n",
      "Increase the number of iterations (max_iter) or scale the data as shown in:\n",
      "    https://scikit-learn.org/stable/modules/preprocessing.html\n",
      "Please also refer to the documentation for alternative solver options:\n",
      "    https://scikit-learn.org/stable/modules/linear_model.html#logistic-regression\n",
      "  n_iter_i = _check_optimize_result(\n",
      "/usr/local/lib/python3.9/dist-packages/sklearn/linear_model/_logistic.py:458: ConvergenceWarning: lbfgs failed to converge (status=1):\n",
      "STOP: TOTAL NO. of ITERATIONS REACHED LIMIT.\n",
      "\n",
      "Increase the number of iterations (max_iter) or scale the data as shown in:\n",
      "    https://scikit-learn.org/stable/modules/preprocessing.html\n",
      "Please also refer to the documentation for alternative solver options:\n",
      "    https://scikit-learn.org/stable/modules/linear_model.html#logistic-regression\n",
      "  n_iter_i = _check_optimize_result(\n",
      "/usr/local/lib/python3.9/dist-packages/sklearn/linear_model/_logistic.py:458: ConvergenceWarning: lbfgs failed to converge (status=1):\n",
      "STOP: TOTAL NO. of ITERATIONS REACHED LIMIT.\n",
      "\n",
      "Increase the number of iterations (max_iter) or scale the data as shown in:\n",
      "    https://scikit-learn.org/stable/modules/preprocessing.html\n",
      "Please also refer to the documentation for alternative solver options:\n",
      "    https://scikit-learn.org/stable/modules/linear_model.html#logistic-regression\n",
      "  n_iter_i = _check_optimize_result(\n"
     ]
    },
    {
     "data": {
      "image/png": "[encoded data removed]",
      "text/plain": [
       "<Figure size 640x480 with 1 Axes>"
      ]
     },
     "metadata": {},
     "output_type": "display_data"
    }
   ],
   "source": [
    "size_values = [25, 50, 100, 150]\n",
    "\n",
    "# Train and evaluate logistic regression models with different size values\n",
    "train_accuracies = []\n",
    "test_accuracies = []\n",
    "\n",
    "for size in size_values:\n",
    "    model = Word2Vec(train_data, vector_size=size, window=5, min_count=5, sg=1)\n",
    "\n",
    "    # Average the word embeddings for each review\n",
    "    train_vectors = np.array([get_review_vector(review) for review in train_data])\n",
    "    test_vectors = np.array([get_review_vector(review) for review in test_data])\n",
    "\n",
    "    logreg = LogisticRegression()\n",
    "    logreg.fit(train_vectors, train_labels)\n",
    "\n",
    "    train_accuracy = logreg.score(train_vectors, train_labels)\n",
    "    test_accuracy = logreg.score(test_vectors, test_labels)\n",
    "\n",
    "    train_accuracies.append(train_accuracy)\n",
    "    test_accuracies.append(test_accuracy)\n",
    "\n",
    "# Plot the results of changing vector sizes\n",
    "plt.plot(size_values, train_accuracies, label='Train accuracy')\n",
    "plt.plot(size_values, test_accuracies, label='Test accuracy')\n",
    "plt.xlabel('Size')\n",
    "plt.ylabel('Accuracy')\n",
    "plt.legend()\n",
    "plt.show()\n",
    "\n"
   ]
  },
  {
   "cell_type": "markdown",
   "metadata": {
    "id": "tUosaPzwYMWP"
   },
   "source": [
    "\n",
    "As per the graph the test accuracy increased for first few vectors but started to increase less with increasing number.This means first few features hold the most information and the percentage decrease as we further increase the vector size. "
   ]
  },
  {
   "cell_type": "markdown",
   "metadata": {
    "id": "aLjgLeRIYMWP"
   },
   "source": [
    " Now, we are comparing the model accuracy with different window size. The vector size is kept 100 and window size varies between 2,3,5, and 10. Smaller window means the relationships between words in a review are more local in nature. "
   ]
  },
  {
   "cell_type": "code",
   "execution_count": null,
   "metadata": {
    "colab": {
     "base_uri": "https://localhost:8080/",
     "height": 755
    },
    "id": "86W5SmHXmfkE",
    "outputId": "83e92878-b1bb-410e-a1ee-a1e1b63afbf4"
   },
   "outputs": [
    {
     "name": "stderr",
     "output_type": "stream",
     "text": [
      "/usr/local/lib/python3.9/dist-packages/sklearn/linear_model/_logistic.py:458: ConvergenceWarning: lbfgs failed to converge (status=1):\n",
      "STOP: TOTAL NO. of ITERATIONS REACHED LIMIT.\n",
      "\n",
      "Increase the number of iterations (max_iter) or scale the data as shown in:\n",
      "    https://scikit-learn.org/stable/modules/preprocessing.html\n",
      "Please also refer to the documentation for alternative solver options:\n",
      "    https://scikit-learn.org/stable/modules/linear_model.html#logistic-regression\n",
      "  n_iter_i = _check_optimize_result(\n",
      "/usr/local/lib/python3.9/dist-packages/sklearn/linear_model/_logistic.py:458: ConvergenceWarning: lbfgs failed to converge (status=1):\n",
      "STOP: TOTAL NO. of ITERATIONS REACHED LIMIT.\n",
      "\n",
      "Increase the number of iterations (max_iter) or scale the data as shown in:\n",
      "    https://scikit-learn.org/stable/modules/preprocessing.html\n",
      "Please also refer to the documentation for alternative solver options:\n",
      "    https://scikit-learn.org/stable/modules/linear_model.html#logistic-regression\n",
      "  n_iter_i = _check_optimize_result(\n"
     ]
    },
    {
     "data": {
      "image/png": "[encoded data removed]",
      "text/plain": [
       "<Figure size 640x480 with 1 Axes>"
      ]
     },
     "metadata": {},
     "output_type": "display_data"
    }
   ],
   "source": [
    "window_values = [2, 3, 5, 10]\n",
    "\n",
    "# Train and evaluate logistic regression models with different window values\n",
    "train_accuracies = []\n",
    "test_accuracies = []\n",
    "\n",
    "for window in window_values:\n",
    "    model = Word2Vec(train_data, vector_size=100, window=window, min_count=5, sg=1)\n",
    "\n",
    "    train_vectors = np.array([get_review_vector(review) for review in train_data])\n",
    "    test_vectors = np.array([get_review_vector(review) for review in test_data])\n",
    "\n",
    "    logreg = LogisticRegression()\n",
    "    logreg.fit(train_vectors, train_labels)\n",
    "\n",
    "    train_accuracy = logreg.score(train_vectors, train_labels)\n",
    "    test_accuracy = logreg.score(test_vectors, test_labels)\n",
    "\n",
    "    train_accuracies.append(train_accuracy)\n",
    "    test_accuracies.append(test_accuracy)\n",
    "\n",
    "# Plot the results\n",
    "plt.plot(window_values, train_accuracies, label='Train accuracy')\n",
    "plt.plot(window_values, test_accuracies, label='Test accuracy')\n",
    "plt.xlabel('Window')\n",
    "plt.ylabel('Accuracy')\n",
    "plt.legend()\n",
    "plt.show() \n",
    "\n",
    "\n"
   ]
  },
  {
   "cell_type": "markdown",
   "metadata": {
    "id": "fzGBto2tYMWQ"
   },
   "source": [
    " The accuracy of train and test both decreases as window is decreasing. The test accuracy is lower than train as seen in the plot. The increase in accuracy is not as dramatic after 5 windows. This means 5 words before and after a certain word explain the most features. As the window size increases, the feature context doesn't increase at the same rate. \n",
    "\n"
   ]
  },
  {
   "cell_type": "markdown",
   "metadata": {
    "id": "wP7oaT4SYMWQ"
   },
   "source": [
    "## Applying LSTM RNN \n",
    " RNNs are used for NLP as they can capture the sequential patterns. The words have a lot of meaning associated with them based on the context or surrounding words. RNN captures that context and filters features based on the most explained context. They can store data for a long time and store context. They can better provide similarity between words and can compress features into specified dimension.\n",
    "\n",
    " Here we are comparing the performance of word2vec as well as an RNN model.The RNN model is trained on the data to get embeddings which are used for prediction."
   ]
  },
  {
   "cell_type": "markdown",
   "metadata": {
    "id": "At59uBpkrS03"
   },
   "source": [
    "Training a word2vec with vector size as 300"
   ]
  },
  {
   "cell_type": "code",
   "execution_count": null,
   "metadata": {
    "colab": {
     "base_uri": "https://localhost:8080/"
    },
    "id": "UThWRu_brRIj",
    "outputId": "4d1f99b9-9907-4faf-8e11-6dd1b19fabaf"
   },
   "outputs": [
    {
     "name": "stdout",
     "output_type": "stream",
     "text": [
      "Train accuracy: 0.882625\n",
      "Test accuracy: 0.8821\n"
     ]
    },
    {
     "name": "stderr",
     "output_type": "stream",
     "text": [
      "/usr/local/lib/python3.9/dist-packages/sklearn/linear_model/_logistic.py:458: ConvergenceWarning: lbfgs failed to converge (status=1):\n",
      "STOP: TOTAL NO. of ITERATIONS REACHED LIMIT.\n",
      "\n",
      "Increase the number of iterations (max_iter) or scale the data as shown in:\n",
      "    https://scikit-learn.org/stable/modules/preprocessing.html\n",
      "Please also refer to the documentation for alternative solver options:\n",
      "    https://scikit-learn.org/stable/modules/linear_model.html#logistic-regression\n",
      "  n_iter_i = _check_optimize_result(\n"
     ]
    }
   ],
   "source": [
    "# Train the Word2Vec model\n",
    "model_w2v = Word2Vec(train_data, vector_size=300, window=5, min_count=5, sg=1)\n",
    "\n",
    "# Average the word embeddings for each review\n",
    "def get_review_vector(review):\n",
    "    vectors = []\n",
    "    for word in review:\n",
    "        if word in model_w2v.wv.key_to_index:\n",
    "            vectors.append(model_w2v.wv[word])\n",
    "    if len(vectors) > 0:\n",
    "        return np.mean(vectors, axis=0)\n",
    "    else:\n",
    "        return np.zeros((100,))\n",
    "\n",
    "train_vectors = np.array([get_review_vector(review) for review in train_data])\n",
    "test_vectors = np.array([get_review_vector(review) for review in test_data])\n",
    "\n",
    "logreg = LogisticRegression()\n",
    "logreg.fit(train_vectors, train_labels)\n",
    "\n",
    "# Evaluate the model\n",
    "train_accuracy = logreg.score(train_vectors, train_labels)\n",
    "test_accuracy = logreg.score(test_vectors, test_labels)\n",
    "\n",
    "print(\"Train accuracy:\", train_accuracy)\n",
    "print(\"Test accuracy:\", test_accuracy)\n"
   ]
  },
  {
   "cell_type": "code",
   "execution_count": null,
   "metadata": {
    "colab": {
     "base_uri": "https://localhost:8080/"
    },
    "id": "CmNyW_8wmfmf",
    "outputId": "7d4f9af9-6261-479a-db2e-8577ba819d40"
   },
   "outputs": [
    {
     "name": "stdout",
     "output_type": "stream",
     "text": [
      "Epoch 1/10\n",
      "625/625 [==============================] - 96s 141ms/step - loss: 0.3700 - accuracy: 0.8367 - val_loss: 0.2964 - val_accuracy: 0.8760\n",
      "Epoch 2/10\n",
      "625/625 [==============================] - 39s 62ms/step - loss: 0.2531 - accuracy: 0.9003 - val_loss: 0.2907 - val_accuracy: 0.8804\n",
      "Epoch 3/10\n",
      "625/625 [==============================] - 27s 44ms/step - loss: 0.2080 - accuracy: 0.9189 - val_loss: 0.3183 - val_accuracy: 0.8730\n",
      "Epoch 4/10\n",
      "625/625 [==============================] - 24s 38ms/step - loss: 0.1620 - accuracy: 0.9396 - val_loss: 0.3383 - val_accuracy: 0.8694\n",
      "Epoch 5/10\n",
      "625/625 [==============================] - 22s 36ms/step - loss: 0.1366 - accuracy: 0.9510 - val_loss: 0.3770 - val_accuracy: 0.8610\n",
      "Epoch 6/10\n",
      "625/625 [==============================] - 23s 37ms/step - loss: 0.1005 - accuracy: 0.9642 - val_loss: 0.4616 - val_accuracy: 0.8626\n",
      "Epoch 7/10\n",
      "625/625 [==============================] - 20s 32ms/step - loss: 0.0799 - accuracy: 0.9731 - val_loss: 0.4892 - val_accuracy: 0.8543\n",
      "Epoch 8/10\n",
      "625/625 [==============================] - 21s 34ms/step - loss: 0.0700 - accuracy: 0.9765 - val_loss: 0.5595 - val_accuracy: 0.8667\n",
      "Epoch 9/10\n",
      "625/625 [==============================] - 20s 33ms/step - loss: 0.0470 - accuracy: 0.9850 - val_loss: 0.5644 - val_accuracy: 0.8622\n",
      "Epoch 10/10\n",
      "625/625 [==============================] - 21s 33ms/step - loss: 0.0434 - accuracy: 0.9867 - val_loss: 0.6665 - val_accuracy: 0.8633\n",
      "1250/1250 [==============================] - 10s 8ms/step - loss: 0.0208 - accuracy: 0.9939\n",
      "313/313 [==============================] - 2s 8ms/step - loss: 0.6665 - accuracy: 0.8633\n",
      "Train accuracy: 0.9939000010490417\n",
      "Test accuracy: 0.8633000254631042\n"
     ]
    }
   ],
   "source": [
    "data['sentiment'] = data['sentiment'].map({'positive': 1, 'negative': 0})\n",
    "X = data['review']\n",
    "y = data['sentiment']\n",
    "tokenizer = Tokenizer(num_words=5000)\n",
    "tokenizer.fit_on_texts(X)\n",
    "X = tokenizer.texts_to_sequences(X)\n",
    "X = pad_sequences(X, maxlen=200)\n",
    "\n",
    "# Split into training and test sets\n",
    "X_train, X_test, y_train, y_test = train_test_split(X, y, test_size=0.2, random_state=42)\n",
    "\n",
    "# Define RNN model\n",
    "model_rnn = Sequential()\n",
    "model_rnn.add(Embedding(5000, 300, input_length=X.shape[1]))\n",
    "model_rnn.add(LSTM(300))\n",
    "model_rnn.add(Dense(1, activation='sigmoid'))\n",
    "model_rnn.compile(loss='binary_crossentropy', optimizer='adam', metrics=['accuracy'])\n",
    "\n",
    "# Fit RNN model\n",
    "model_rnn.fit(X_train, y_train, validation_data=(X_test, y_test), epochs=10, batch_size=64)\n",
    "\n",
    "# Evaluate RNN model\n",
    "train_acc = model_rnn.evaluate(X_train, y_train)[1]\n",
    "test_acc = model_rnn.evaluate(X_test, y_test)[1]\n",
    "print('Train accuracy:', train_acc)\n",
    "print('Test accuracy:', test_acc)\n",
    "\n",
    "\n"
   ]
  },
  {
   "cell_type": "markdown",
   "metadata": {
    "id": "CVhgB3t_pbQb"
   },
   "source": [
    "The performance for word2vec is better than RNN. Test accuracy of\n",
    "- word2vec= 88%\n",
    "- RNN= 86%\n",
    "\n",
    "\n",
    "Now, we are going to compare the performance of RNN using embeddings from word2vec as well as pre-trained glove embeddings.\n",
    "\n",
    "Training a LSTM model using the embeddings from word2vec model"
   ]
  },
  {
   "cell_type": "code",
   "execution_count": null,
   "metadata": {
    "colab": {
     "base_uri": "https://localhost:8080/"
    },
    "id": "Afq6tMFs0V-0",
    "outputId": "bd0e4015-09c4-4b4a-af1e-8d6626af1829"
   },
   "outputs": [
    {
     "name": "stdout",
     "output_type": "stream",
     "text": [
      "Epoch 1/10\n",
      "1250/1250 [==============================] - 31s 19ms/step - loss: 0.6660 - accuracy: 0.6005 - val_loss: 0.5937 - val_accuracy: 0.6799\n",
      "Epoch 2/10\n",
      "1250/1250 [==============================] - 23s 18ms/step - loss: 0.5841 - accuracy: 0.6877 - val_loss: 0.5421 - val_accuracy: 0.7299\n",
      "Epoch 3/10\n",
      "1250/1250 [==============================] - 23s 18ms/step - loss: 0.5413 - accuracy: 0.7259 - val_loss: 0.5018 - val_accuracy: 0.7562\n",
      "Epoch 4/10\n",
      "1250/1250 [==============================] - 23s 19ms/step - loss: 0.4983 - accuracy: 0.7569 - val_loss: 0.4883 - val_accuracy: 0.7664\n",
      "Epoch 5/10\n",
      "1250/1250 [==============================] - 24s 19ms/step - loss: 0.4691 - accuracy: 0.7764 - val_loss: 0.4538 - val_accuracy: 0.7879\n",
      "Epoch 6/10\n",
      "1250/1250 [==============================] - 24s 19ms/step - loss: 0.4445 - accuracy: 0.7928 - val_loss: 0.4504 - val_accuracy: 0.7882\n",
      "Epoch 7/10\n",
      "1250/1250 [==============================] - 23s 19ms/step - loss: 0.4194 - accuracy: 0.8052 - val_loss: 0.4277 - val_accuracy: 0.8045\n",
      "Epoch 8/10\n",
      "1250/1250 [==============================] - 23s 19ms/step - loss: 0.3903 - accuracy: 0.8249 - val_loss: 0.4047 - val_accuracy: 0.8166\n",
      "Epoch 9/10\n",
      "1250/1250 [==============================] - 23s 19ms/step - loss: 0.4229 - accuracy: 0.7954 - val_loss: 0.4021 - val_accuracy: 0.8194\n",
      "Epoch 10/10\n",
      "1250/1250 [==============================] - 23s 19ms/step - loss: 0.3468 - accuracy: 0.8480 - val_loss: 0.4053 - val_accuracy: 0.8159\n",
      "1250/1250 [==============================] - 10s 8ms/step - loss: 0.3176 - accuracy: 0.8681\n",
      "313/313 [==============================] - 2s 8ms/step - loss: 0.4053 - accuracy: 0.8159\n",
      "Train accuracy: 0.8681250214576721\n",
      "Test accuracy: 0.8159000277519226\n"
     ]
    }
   ],
   "source": [
    "\n",
    "data = pd.read_csv('IMDB.csv')\n",
    "data['review'] = data['review'].apply(lambda x: gensim.utils.simple_preprocess(x))\n",
    "data['review'] = data['review'].apply(lambda x: [word for word in x if word not in gensim.parsing.preprocessing.STOPWORDS])\n",
    "data['sentiment'] = data['sentiment'].map({'positive': 1, 'negative': 0})\n",
    "\n",
    "X = data['review']\n",
    "y = data['sentiment']\n",
    "\n",
    "# Split the data into training and test sets\n",
    "train_data, test_data, train_labels, test_labels = train_test_split(data['review'], data['sentiment'], test_size=0.2)\n",
    "\n",
    "# Train the Word2Vec model\n",
    "model_final_w2v = Word2Vec(train_data, vector_size=100, window=5, min_count=5, sg=1)\n",
    "\n",
    "# Retrieve embeddings for each word of the review\n",
    "embedding_matrix = np.zeros((len(X), model_final_w2v.vector_size))\n",
    "for i, word in enumerate(model_final_w2v.wv.key_to_index):\n",
    "  embedding_matrix[i]=(model_final_w2v.wv[word])\n",
    "\n",
    "\n",
    "#Defining model architecture\n",
    "model = Sequential()\n",
    "model.add(Embedding(len(X), 300, input_length=200))\n",
    "model.add(LSTM(300))\n",
    "model.add(Dense(1, activation = 'sigmoid'))\n",
    "model.compile(loss = 'binary_crossentropy', metrics = ['accuracy']) \n",
    "model.layers[0].set_weights=[embedding_matrix]\n",
    "model.layers[0].trainable=False\n",
    "\n",
    "#Getting data ready for LSTM\n",
    "tokenizer = Tokenizer(num_words=len(X))\n",
    "word_index=tokenizer.word_index\n",
    "tokenizer.fit_on_texts(X)\n",
    "X = tokenizer.texts_to_sequences(X)\n",
    "X = pad_sequences(X, maxlen=200) #Getting 100 words from reviews\n",
    "X_train, X_test, y_train, y_test = train_test_split(X, y, test_size=0.2, random_state=42)\n",
    "\n",
    "w2v_word_index=tokenizer.word_index\n",
    "\n",
    "\n",
    "#Train the model\n",
    "model.compile(optimizer='adam', loss='binary_crossentropy', metrics=['accuracy'])\n",
    "\n",
    "model.fit(X_train, y_train, validation_data=(X_test, y_test), epochs=10, batch_size=32)\n",
    "train_acc = model.evaluate(X_train, y_train)[1]\n",
    "test_acc = model.evaluate(X_test, y_test)[1]\n",
    "print('Train accuracy:', train_acc)\n",
    "print('Test accuracy:', test_acc)\n",
    "\n",
    "\n"
   ]
  },
  {
   "cell_type": "markdown",
   "metadata": {
    "id": "57y2MkNIN4TO"
   },
   "source": [
    " The accuracy from trained model is 81%.\n",
    "\n",
    " Now the pre-trained embeddings are used to capture the context of words.\n",
    "\n",
    "\n",
    "\n",
    "\n"
   ]
  },
  {
   "cell_type": "code",
   "execution_count": null,
   "metadata": {
    "id": "S15Q6sEbpoHz"
   },
   "outputs": [],
   "source": [
    "!wget http://nlp.stanford.edu/data/glove.6B.zip\n",
    "!unzip glove.6B.zip"
   ]
  },
  {
   "cell_type": "code",
   "execution_count": null,
   "metadata": {
    "colab": {
     "base_uri": "https://localhost:8080/"
    },
    "id": "NIPCaF-8MPrL",
    "outputId": "fd73b171-e57e-4f50-c2ba-2597aee334f4"
   },
   "outputs": [
    {
     "name": "stdout",
     "output_type": "stream",
     "text": [
      "Epoch 1/10\n",
      "1250/1250 [==============================] - 27s 20ms/step - loss: 0.6640 - accuracy: 0.5992 - val_loss: 0.5784 - val_accuracy: 0.6941\n",
      "Epoch 2/10\n",
      "1250/1250 [==============================] - 24s 19ms/step - loss: 0.5812 - accuracy: 0.6866 - val_loss: 0.5660 - val_accuracy: 0.7281\n",
      "Epoch 3/10\n",
      "1250/1250 [==============================] - 24s 19ms/step - loss: 0.5318 - accuracy: 0.7325 - val_loss: 0.5139 - val_accuracy: 0.7460\n",
      "Epoch 4/10\n",
      "1250/1250 [==============================] - 23s 19ms/step - loss: 0.4884 - accuracy: 0.7629 - val_loss: 0.4636 - val_accuracy: 0.7793\n",
      "Epoch 5/10\n",
      "1250/1250 [==============================] - 23s 19ms/step - loss: 0.4330 - accuracy: 0.7990 - val_loss: 0.4133 - val_accuracy: 0.8051\n",
      "Epoch 6/10\n",
      "1250/1250 [==============================] - 24s 19ms/step - loss: 0.3973 - accuracy: 0.8190 - val_loss: 0.3925 - val_accuracy: 0.8158\n",
      "Epoch 7/10\n",
      "1250/1250 [==============================] - 24s 19ms/step - loss: 0.3586 - accuracy: 0.8405 - val_loss: 0.3845 - val_accuracy: 0.8292\n",
      "Epoch 8/10\n",
      "1250/1250 [==============================] - 23s 19ms/step - loss: 0.3294 - accuracy: 0.8550 - val_loss: 0.3613 - val_accuracy: 0.8372\n",
      "Epoch 9/10\n",
      "1250/1250 [==============================] - 24s 19ms/step - loss: 0.3064 - accuracy: 0.8691 - val_loss: 0.3426 - val_accuracy: 0.8510\n",
      "Epoch 10/10\n",
      "1250/1250 [==============================] - 23s 19ms/step - loss: 0.2816 - accuracy: 0.8811 - val_loss: 0.3329 - val_accuracy: 0.8516\n",
      "1250/1250 [==============================] - 10s 8ms/step - loss: 0.2438 - accuracy: 0.9003\n",
      "313/313 [==============================] - 2s 8ms/step - loss: 0.3329 - accuracy: 0.8516\n",
      "Train accuracy: 0.9003250002861023\n",
      "Test accuracy: 0.8515999913215637\n"
     ]
    }
   ],
   "source": [
    "#Getting the train and test data ready\n",
    "data = pd.read_csv('IMDB.csv')\n",
    "\n",
    "data['sentiment'] = data['sentiment'].map({'positive': 1, 'negative': 0})\n",
    "X = data['review']\n",
    "y = data['sentiment']\n",
    "tokenizer_trained = Tokenizer(num_words=len(X))\n",
    "word_index=tokenizer_trained.word_index\n",
    "tokenizer_trained.fit_on_texts(X)\n",
    "X = tokenizer_trained.texts_to_sequences(X)\n",
    "X = pad_sequences(X, maxlen=200) #Getting 100 words from reviews\n",
    "\n",
    "X_train, X_test, y_train, y_test = train_test_split(X, y, test_size=0.2, random_state=42)\n",
    "\n",
    "\n",
    "#Reading the embeddings\n",
    "embedding_path = '/content/glove.6B.300d.txt'\n",
    "embedding_index = {}\n",
    "with open(embedding_path, encoding='utf-8') as f:\n",
    "    for line in f:\n",
    "        values = line.split()\n",
    "        word = values[0]\n",
    "        coefs = np.asarray(values[1:], dtype='float32')\n",
    "        embedding_index[word] = coefs\n",
    "\n",
    "\n",
    "#Creating matrix of embeddings\n",
    "embedding_matrix = np.zeros((len(X), 300)) #Each word is represented by 300 vectors\n",
    "for word, i in tokenizer_trained.word_index.items():\n",
    "    embedding_vector = embedding_index.get(word)\n",
    "    if i<len(X):\n",
    "      if embedding_vector is not None:\n",
    "        embedding_matrix[i] = embedding_vector\n",
    "\n",
    "#We have the corresponsing vectors of all words from IMDB corpus\n",
    "\n",
    "\n",
    "#Defining model architecture\n",
    "model_embeddings = Sequential()\n",
    "model_embeddings.add(Embedding(len(X), 300, input_length=200))\n",
    "model_embeddings.add(LSTM(300))\n",
    "model_embeddings.add(Dense(1, activation = 'sigmoid'))\n",
    "model_embeddings.compile(loss = 'binary_crossentropy', metrics = ['accuracy']) \n",
    "model_embeddings.layers[0].set_weights=[embedding_matrix]\n",
    "model_embeddings.layers[0].trainable=False\n",
    "\n",
    "#Train the model\n",
    "model_embeddings.compile(optimizer='adam', loss='binary_crossentropy', metrics=['accuracy'])\n",
    "model_embeddings.fit(X_train, y_train, validation_data=(X_test, y_test), epochs=10, batch_size=32)\n",
    "train_acc = model_embeddings.evaluate(X_train, y_train)[1]\n",
    "test_acc = model_embeddings.evaluate(X_test, y_test)[1]\n",
    "print('Train accuracy:', train_acc)\n",
    "print('Test accuracy:', test_acc)\n",
    "\n"
   ]
  },
  {
   "cell_type": "markdown",
   "metadata": {
    "id": "PT3pR-UBYMWQ"
   },
   "source": [
    " The accuracy by using pre-trained embedding is 85%. \n",
    "\n",
    "\n",
    "### Comparing the accuracy of word2vec and RNN:\n",
    "- word2vec= 88%\n",
    "- RNN= 86%\n",
    "\n",
    " word2vec is better in this case. Word embeddings perform better than frequency based models as they capture the context of the input better. Word based models result in dense vectors that capture the most relevance and are easy to work with. \n",
    "\n",
    "### Comparing the performance of model trained on my corpus of words to the pre trained embedding:\n",
    "- Trained on corpus= 81%\n",
    "- Pre-trained embedding= 85% \n",
    "    \n",
    "The pre-trained embeddings performed better as it is trained on a large corpus of words hence embeddings represent more features.\n",
    "\n"
   ]
  },
  {
   "cell_type": "markdown",
   "metadata": {
    "id": "K8AaJsFtYMWQ"
   },
   "source": [
    "## Finding similar words using word2vec and RNN"
   ]
  },
  {
   "cell_type": "code",
   "execution_count": null,
   "metadata": {
    "colab": {
     "base_uri": "https://localhost:8080/"
    },
    "id": "4lQ7fbP_mfpH",
    "outputId": "9592c6fa-9887-4d66-ae4e-0d16f8297e1a"
   },
   "outputs": [
    {
     "data": {
      "text/plain": [
       "['mcmichael',\n",
       " 'experimentalism',\n",
       " 'battles',\n",
       " 'paths',\n",
       " 'docudrama',\n",
       " 'relatively',\n",
       " 'erice',\n",
       " 'wiring',\n",
       " 'numerology',\n",
       " 'march',\n",
       " 'scraps',\n",
       " 'doused',\n",
       " 'arousing',\n",
       " 'cemeteries',\n",
       " 'glitches',\n",
       " 'novellas',\n",
       " 'outrageously',\n",
       " 'treacle',\n",
       " 'nigeria',\n",
       " 'firsthand']"
      ]
     },
     "execution_count": 35,
     "metadata": {},
     "output_type": "execute_result"
    }
   ],
   "source": [
    "from sklearn.metrics.pairwise import cosine_similarity\n",
    "\n",
    "# Extract the word embeddings\n",
    "embedding_layer = model.layers[0]\n",
    "word_embeddings = embedding_layer.get_weights()[0]\n",
    "\n",
    "# Define a target word\n",
    "target_word = 'interesting'\n",
    "\n",
    "# Find similar words using cosine similarity\n",
    "target_embedding = word_embeddings[tokenizer.word_index[target_word], :]\n",
    "similarities = cosine_similarity(word_embeddings, target_embedding.reshape(1, -1))\n",
    "similar_words_idx = np.argsort(similarities.flatten())[::-1][1:21]  # exclude the target word and get the top-20 similar words\n",
    "similar_words = [tokenizer.index_word[idx] for idx in similar_words_idx]\n",
    "\n",
    "# Print the similar words\n",
    "similar_words\n"
   ]
  },
  {
   "cell_type": "code",
   "execution_count": null,
   "metadata": {
    "colab": {
     "base_uri": "https://localhost:8080/"
    },
    "id": "-DnS-giCmfsA",
    "outputId": "06b14251-e66e-45a4-cee0-89e87ae236c1"
   },
   "outputs": [
    {
     "name": "stdout",
     "output_type": "stream",
     "text": [
      "[==================================================] 100.0% 376.1/376.1MB downloaded\n"
     ]
    },
    {
     "data": {
      "text/plain": [
       "['intriguing',\n",
       " 'fascinating',\n",
       " 'exciting',\n",
       " 'amusing',\n",
       " 'compelling',\n",
       " 'quite',\n",
       " 'something',\n",
       " 'wonderful',\n",
       " 'things',\n",
       " 'curious',\n",
       " 'thing',\n",
       " 'entertaining',\n",
       " 'surprising',\n",
       " 'really',\n",
       " 'very',\n",
       " 'unusual',\n",
       " 'unique',\n",
       " 'certainly',\n",
       " 'strange',\n",
       " 'useful',\n",
       " 'tedious',\n",
       " 'dull',\n",
       " 'bored',\n",
       " 'uninteresting',\n",
       " 'monotonous',\n",
       " 'stuff',\n",
       " 'pretentious',\n",
       " 'downright',\n",
       " 'annoying',\n",
       " 'tiresome',\n",
       " 'bland',\n",
       " 'pretty',\n",
       " 'banal',\n",
       " 'stupid',\n",
       " 'frustrating',\n",
       " 'fun',\n",
       " 'enjoyable',\n",
       " 'silly',\n",
       " 'terribly',\n",
       " 'useless']"
      ]
     },
     "execution_count": 10,
     "metadata": {},
     "output_type": "execute_result"
    }
   ],
   "source": [
    "#Most similar from pre trained embeddings\n",
    "import gensim.downloader as api\n",
    "model_glove = api.load(\"glove-wiki-gigaword-300\")\n",
    "model2_similar=[]\n",
    "model2_similar+=(w[0] for w in model_glove.most_similar(\"interesting\", topn = 20))\n",
    "model2_similar+=(w[0] for w in model_glove.most_similar(\"boring\", topn = 20))\n",
    "model2_similar\n"
   ]
  },
  {
   "cell_type": "markdown",
   "metadata": {
    "id": "3lNTnsbeYMWR"
   },
   "source": [
    "The words are not same for both models hence it signifies that both models work in a different manner.\n",
    "\n",
    "## Principal component analysis:\n",
    "It is a technique to reduce dimensionality of data by finding dimensions in the direction with most variation. It is applied here so the dimensions that explain the most variation in data can be used for prediction. PCA also helps in resolving for overfitting.\n",
    "\n",
    "Here, the words 'interesting' and 'boring' are used with both models to get the embeddings. PCA is applied on these embeddings and the components that explain 75% of the cumulative variance are filtered. The words represented by these filtered embeddings are plotted in a graph for visualization.  \n",
    "\n",
    "\n",
    "Getting a list of unique words similar to interesting and boring using the both models."
   ]
  },
  {
   "cell_type": "code",
   "execution_count": null,
   "metadata": {
    "id": "y0IEnvGhjYZB"
   },
   "outputs": [],
   "source": [
    "# Define target words\n",
    "words=[]\n",
    "# Extract the word embeddings\n",
    "embedding_layer = model.layers[0]\n",
    "word_embeddings = embedding_layer.get_weights()[0]\n",
    "\n",
    "# Find similar words using cosine similarity\n",
    "target_embedding = word_embeddings[tokenizer.word_index['interesting'], :]\n",
    "similarities = cosine_similarity(word_embeddings, target_embedding.reshape(1, -1))\n",
    "similar_words_idx = np.argsort(similarities.flatten())[::-1][1:21]  # exclude the target word and get the top-20 similar words\n",
    "words += [tokenizer.index_word[idx] for idx in similar_words_idx]\n",
    "\n",
    "target_embedding = word_embeddings[tokenizer.word_index['boring'], :]\n",
    "similarities = cosine_similarity(word_embeddings, target_embedding.reshape(1, -1))\n",
    "similar_words_idx = np.argsort(similarities.flatten())[::-1][1:21]  # exclude the target word and get the top-20 similar words\n",
    "words += [tokenizer.index_word[idx] for idx in similar_words_idx]\n",
    "\n",
    "words += [w[0] for w in model_glove.most_similar(\"interesting\", topn=20)]\n",
    "words += [w[0] for w in model_glove.most_similar(\"boring\", topn=20)]\n",
    "words = list(set(words))  # remove duplicates\n",
    "\n",
    "embeddings = []\n",
    "for i, word in enumerate(words):\n",
    "  if word in tokenizer.word_index:\n",
    "    word_index = tokenizer.word_index[word]\n",
    "    embedding = word_embeddings[word_index]\n",
    "    embeddings.append(embedding)\n",
    "  elif word in model_glove.key_to_index:\n",
    "      word_index = model_glove.key_to_index[word]\n",
    "      embedding = model_glove.vectors[word_index]\n",
    "      embeddings.append(embedding)\n"
   ]
  },
  {
   "cell_type": "code",
   "execution_count": null,
   "metadata": {
    "colab": {
     "base_uri": "https://localhost:8080/",
     "height": 599
    },
    "id": "zSbebXpy8lUU",
    "outputId": "90eba692-fcee-41a6-ba19-b440d8cacc86"
   },
   "outputs": [
    {
     "data": {
      "image/png": "[encoded data removed]",
      "text/plain": [
       "<Figure size 700x700 with 1 Axes>"
      ]
     },
     "metadata": {},
     "output_type": "display_data"
    }
   ],
   "source": [
    "# Reduce dimensions with PCA\n",
    "pca = PCA(n_components=0.75)\n",
    "pca.fit(embeddings)\n",
    "embeddings_2d = pca.transform(embeddings)\n",
    "\n",
    "# Plot PC 1 vs. PC 2\n",
    "fig, ax = plt.subplots(figsize=(7, 7))\n",
    "ax.scatter(embeddings_2d[:, 0], embeddings_2d[:, 1])\n",
    "\n",
    "# Annotate interesting words\n",
    "for i, embedding in enumerate(embeddings):\n",
    "    word = words[i]\n",
    "    ax.annotate(word, xy=(embeddings_2d[i, 0], embeddings_2d[i, 1]),\n",
    "                xytext=(1, -1), textcoords='offset points', ha='left', va='top')\n"
   ]
  },
  {
   "cell_type": "markdown",
   "metadata": {
    "id": "RV5PATVfslg8"
   },
   "source": [
    "Most of the words are grouped together in the plot wheras 'really' and 'something' are closer to each other but far from other words. This means they are similar in context. Similarly, 'quite' and 'very' are closer signifying similarity in their meaning. \n",
    "\n",
    "Thus, the embneddings from RNN collect the features which represent the meaning of words. These features help with classification and sentiment analysis."
   ]
  }
 ],
 "metadata": {
  "accelerator": "GPU",
  "colab": {
   "provenance": []
  },
  "gpuClass": "standard",
  "kernelspec": {
   "display_name": "Python 3 (ipykernel)",
   "language": "python",
   "name": "python3"
  },
  "language_info": {
   "codemirror_mode": {
    "name": "ipython",
    "version": 3
   },
   "file_extension": ".py",
   "mimetype": "text/x-python",
   "name": "python",
   "nbconvert_exporter": "python",
   "pygments_lexer": "ipython3",
   "version": "3.9.12"
  }
 },
 "nbformat": 4,
 "nbformat_minor": 1
}
